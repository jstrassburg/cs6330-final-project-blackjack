{
 "cells": [
  {
   "cell_type": "markdown",
   "metadata": {},
   "source": [
    "# Blackjack Output Visualizations"
   ]
  },
  {
   "cell_type": "code",
   "execution_count": 2,
   "metadata": {},
   "outputs": [],
   "source": [
    "import seaborn as sns\n",
    "import pandas as pd\n",
    "import matplotlib.pyplot as plt\n",
    "\n",
    "plt.style.use('seaborn-dark')"
   ]
  },
  {
   "cell_type": "markdown",
   "metadata": {},
   "source": [
    "The Blackjack simulator is a command line application. It allows one to specify the type of game to play, and how my games to run the simulation on. When complete, it writes the results to a CSV file called `{GameType}.csv`."
   ]
  },
  {
   "cell_type": "code",
   "execution_count": 2,
   "metadata": {},
   "outputs": [
    {
     "name": "stdout",
     "output_type": "stream",
     "text": [
      "usage: blackjack.py [-h] [--games GAMES_TO_PLAY]\n",
      "                    [--game-type {FixedPolicyGame,QLearningPolicyGame,OptimizedPolicyGame}]\n",
      "\n",
      "Plays games of Blackjack\n",
      "\n",
      "options:\n",
      "  -h, --help            show this help message and exit\n",
      "  --games GAMES_TO_PLAY\n",
      "                        The number of games to play. Default 1000.\n",
      "  --game-type {FixedPolicyGame,QLearningPolicyGame,OptimizedPolicyGame}\n",
      "                        The type of game to play. Default: FixedPolicyGame\n"
     ]
    }
   ],
   "source": [
    "!python blackjack.py --help"
   ]
  },
  {
   "cell_type": "markdown",
   "metadata": {},
   "source": [
    "## Fixed Policy Game"
   ]
  },
  {
   "cell_type": "markdown",
   "metadata": {},
   "source": [
    "My initial fixed policy has the player hitting until they could bust (e.g. hit under 12)."
   ]
  },
  {
   "cell_type": "code",
   "execution_count": 3,
   "metadata": {},
   "outputs": [
    {
     "name": "stdout",
     "output_type": "stream",
     "text": [
      "Playing 1000 games of type FixedPolicyGame...\n",
      "\n",
      "Results after 1000 games of type FixedPolicyGame:\n",
      "\tDealer won: 702\n",
      "\tPlayer won: 298\n"
     ]
    }
   ],
   "source": [
    "!python blackjack.py --game-type FixedPolicyGame --games 1000"
   ]
  },
  {
   "cell_type": "code",
   "execution_count": 4,
   "metadata": {},
   "outputs": [
    {
     "data": {
      "text/html": [
       "<div>\n",
       "<style scoped>\n",
       "    .dataframe tbody tr th:only-of-type {\n",
       "        vertical-align: middle;\n",
       "    }\n",
       "\n",
       "    .dataframe tbody tr th {\n",
       "        vertical-align: top;\n",
       "    }\n",
       "\n",
       "    .dataframe thead th {\n",
       "        text-align: right;\n",
       "    }\n",
       "</style>\n",
       "<table border=\"1\" class=\"dataframe\">\n",
       "  <thead>\n",
       "    <tr style=\"text-align: right;\">\n",
       "      <th></th>\n",
       "      <th>winner</th>\n",
       "      <th>dealer_score</th>\n",
       "      <th>player_score</th>\n",
       "    </tr>\n",
       "  </thead>\n",
       "  <tbody>\n",
       "    <tr>\n",
       "      <th>0</th>\n",
       "      <td>Winner.Dealer</td>\n",
       "      <td>21</td>\n",
       "      <td>14</td>\n",
       "    </tr>\n",
       "    <tr>\n",
       "      <th>1</th>\n",
       "      <td>Winner.Player</td>\n",
       "      <td>14</td>\n",
       "      <td>20</td>\n",
       "    </tr>\n",
       "    <tr>\n",
       "      <th>2</th>\n",
       "      <td>Winner.Dealer</td>\n",
       "      <td>18</td>\n",
       "      <td>14</td>\n",
       "    </tr>\n",
       "    <tr>\n",
       "      <th>3</th>\n",
       "      <td>Winner.Dealer</td>\n",
       "      <td>21</td>\n",
       "      <td>15</td>\n",
       "    </tr>\n",
       "    <tr>\n",
       "      <th>4</th>\n",
       "      <td>Winner.Dealer</td>\n",
       "      <td>20</td>\n",
       "      <td>12</td>\n",
       "    </tr>\n",
       "  </tbody>\n",
       "</table>\n",
       "</div>"
      ],
      "text/plain": [
       "          winner  dealer_score  player_score\n",
       "0  Winner.Dealer            21            14\n",
       "1  Winner.Player            14            20\n",
       "2  Winner.Dealer            18            14\n",
       "3  Winner.Dealer            21            15\n",
       "4  Winner.Dealer            20            12"
      ]
     },
     "execution_count": 4,
     "metadata": {},
     "output_type": "execute_result"
    }
   ],
   "source": [
    "fixed_game_df = pd.read_csv('FixedPolicyGame.csv')\n",
    "fixed_game_df.head()"
   ]
  },
  {
   "cell_type": "code",
   "execution_count": 5,
   "metadata": {},
   "outputs": [
    {
     "data": {
      "text/plain": [
       "Text(0.5, 1.0, 'Winner Counts of Initial Fixed Game')"
      ]
     },
     "execution_count": 5,
     "metadata": {},
     "output_type": "execute_result"
    },
    {
     "data": {
      "image/png": "[encoded data removed]",
      "text/plain": [
       "<Figure size 432x288 with 1 Axes>"
      ]
     },
     "metadata": {},
     "output_type": "display_data"
    }
   ],
   "source": [
    "sns.countplot(x=fixed_game_df['winner'], order=fixed_game_df['winner'].value_counts().index)\n",
    "plt.title('Winner Counts of Initial Fixed Game', fontsize=15)"
   ]
  },
  {
   "cell_type": "code",
   "execution_count": 6,
   "metadata": {},
   "outputs": [
    {
     "data": {
      "text/plain": [
       "<seaborn.axisgrid.FacetGrid at 0x149cf22eaa0>"
      ]
     },
     "execution_count": 6,
     "metadata": {},
     "output_type": "execute_result"
    },
    {
     "data": {
      "image/png": "[encoded data removed]",
      "text/plain": [
       "<Figure size 819.5x360 with 2 Axes>"
      ]
     },
     "metadata": {},
     "output_type": "display_data"
    }
   ],
   "source": [
    "sns.displot(data=fixed_game_df, x='dealer_score', col='winner', hue='winner', col_order=fixed_game_df['winner'].value_counts().index)"
   ]
  },
  {
   "cell_type": "markdown",
   "metadata": {},
   "source": [
    "Observations:\n",
    "* The dealer won more often with scores closer to 21.\n",
    "* The dealer lost most often with a score around 16 and the loss rate trailed off in both directions. This can be explained by the higher win percentage as the score got higher and a greater chance of hitting on lower scores."
   ]
  },
  {
   "cell_type": "code",
   "execution_count": 7,
   "metadata": {},
   "outputs": [
    {
     "data": {
      "text/plain": [
       "<seaborn.axisgrid.FacetGrid at 0x2f132a37ee0>"
      ]
     },
     "execution_count": 7,
     "metadata": {},
     "output_type": "execute_result"
    },
    {
     "data": {
      "image/png": "[encoded data removed]",
      "text/plain": [
       "<Figure size 819.5x360 with 2 Axes>"
      ]
     },
     "metadata": {},
     "output_type": "display_data"
    }
   ],
   "source": [
    "sns.displot(data=fixed_game_df, x='player_score', col='winner', hue='winner')"
   ]
  },
  {
   "cell_type": "markdown",
   "metadata": {},
   "source": [
    "Observations:\n",
    "* The player won more often when their score approached 21.\n",
    "* The player lost most often when staying on 14 as the fixed policy dictated."
   ]
  },
  {
   "cell_type": "markdown",
   "metadata": {},
   "source": [
    "## Q-Lerarning Policy Game"
   ]
  },
  {
   "cell_type": "code",
   "execution_count": 8,
   "metadata": {},
   "outputs": [
    {
     "name": "stdout",
     "output_type": "stream",
     "text": [
      "Playing 1000 games of type QLearningPolicyGame...\n",
      "\n",
      "Results after 1000 games of type QLearningPolicyGame:\n",
      "\tDealer won: 674\n",
      "\tPlayer won: 326\n",
      "state: 2 - best action: Action.STAND\n",
      "state: 3 - best action: Action.STAND\n",
      "state: 4 - best action: Action.HIT\n",
      "state: 5 - best action: Action.HIT\n",
      "state: 6 - best action: Action.HIT\n",
      "state: 7 - best action: Action.HIT\n",
      "state: 8 - best action: Action.HIT\n",
      "state: 9 - best action: Action.HIT\n",
      "state: 10 - best action: Action.HIT\n",
      "state: 11 - best action: Action.HIT\n",
      "state: 12 - best action: Action.HIT\n",
      "state: 13 - best action: Action.HIT\n",
      "state: 14 - best action: Action.HIT\n",
      "state: 15 - best action: Action.HIT\n",
      "state: 16 - best action: Action.HIT\n",
      "state: 17 - best action: Action.STAND\n",
      "state: 18 - best action: Action.STAND\n",
      "state: 19 - best action: Action.STAND\n",
      "state: 20 - best action: Action.STAND\n",
      "state: 21 - best action: Action.STAND\n"
     ]
    }
   ],
   "source": [
    "!python blackjack.py --game-type QLearningPolicyGame --games 1000"
   ]
  },
  {
   "cell_type": "markdown",
   "metadata": {},
   "source": [
    "The q-learning algorithm determined it was best to hit until 17 (given the dealer rules). Next, I implement an optimized policy based on this and observe the results after another 1000 games."
   ]
  },
  {
   "cell_type": "markdown",
   "metadata": {},
   "source": [
    "## Optimized Policy Game"
   ]
  },
  {
   "cell_type": "code",
   "execution_count": 9,
   "metadata": {},
   "outputs": [
    {
     "name": "stdout",
     "output_type": "stream",
     "text": [
      "Playing 1000 games of type OptimizedPolicyGame...\n",
      "\n",
      "Results after 1000 games of type OptimizedPolicyGame:\n",
      "\tDealer won: 655\n",
      "\tPlayer won: 345\n"
     ]
    }
   ],
   "source": [
    "!python blackjack.py --game-type OptimizedPolicyGame --games 1000"
   ]
  },
  {
   "cell_type": "code",
   "execution_count": 7,
   "metadata": {},
   "outputs": [
    {
     "data": {
      "text/html": [
       "<div>\n",
       "<style scoped>\n",
       "    .dataframe tbody tr th:only-of-type {\n",
       "        vertical-align: middle;\n",
       "    }\n",
       "\n",
       "    .dataframe tbody tr th {\n",
       "        vertical-align: top;\n",
       "    }\n",
       "\n",
       "    .dataframe thead th {\n",
       "        text-align: right;\n",
       "    }\n",
       "</style>\n",
       "<table border=\"1\" class=\"dataframe\">\n",
       "  <thead>\n",
       "    <tr style=\"text-align: right;\">\n",
       "      <th></th>\n",
       "      <th>winner</th>\n",
       "      <th>dealer_score</th>\n",
       "      <th>player_score</th>\n",
       "    </tr>\n",
       "  </thead>\n",
       "  <tbody>\n",
       "    <tr>\n",
       "      <th>0</th>\n",
       "      <td>Winner.Player</td>\n",
       "      <td>20</td>\n",
       "      <td>21</td>\n",
       "    </tr>\n",
       "    <tr>\n",
       "      <th>1</th>\n",
       "      <td>Winner.Dealer</td>\n",
       "      <td>19</td>\n",
       "      <td>17</td>\n",
       "    </tr>\n",
       "    <tr>\n",
       "      <th>2</th>\n",
       "      <td>Winner.Dealer</td>\n",
       "      <td>14</td>\n",
       "      <td>24</td>\n",
       "    </tr>\n",
       "    <tr>\n",
       "      <th>3</th>\n",
       "      <td>Winner.Player</td>\n",
       "      <td>18</td>\n",
       "      <td>20</td>\n",
       "    </tr>\n",
       "    <tr>\n",
       "      <th>4</th>\n",
       "      <td>Winner.Dealer</td>\n",
       "      <td>19</td>\n",
       "      <td>19</td>\n",
       "    </tr>\n",
       "  </tbody>\n",
       "</table>\n",
       "</div>"
      ],
      "text/plain": [
       "          winner  dealer_score  player_score\n",
       "0  Winner.Player            20            21\n",
       "1  Winner.Dealer            19            17\n",
       "2  Winner.Dealer            14            24\n",
       "3  Winner.Player            18            20\n",
       "4  Winner.Dealer            19            19"
      ]
     },
     "execution_count": 7,
     "metadata": {},
     "output_type": "execute_result"
    }
   ],
   "source": [
    "optimized_game_df = pd.read_csv('OptimizedPolicyGame.csv')\n",
    "optimized_game_df.head()"
   ]
  },
  {
   "cell_type": "code",
   "execution_count": 11,
   "metadata": {},
   "outputs": [
    {
     "data": {
      "text/plain": [
       "Text(0.5, 1.0, 'Winner Counts of Optimized Game')"
      ]
     },
     "execution_count": 11,
     "metadata": {},
     "output_type": "execute_result"
    },
    {
     "data": {
      "image/png": "[encoded data removed]",
      "text/plain": [
       "<Figure size 432x288 with 1 Axes>"
      ]
     },
     "metadata": {},
     "output_type": "display_data"
    }
   ],
   "source": [
    "sns.countplot(x=optimized_game_df['winner'], order=optimized_game_df['winner'].value_counts().index)\n",
    "plt.title('Winner Counts of Optimized Game', fontsize=15)"
   ]
  },
  {
   "cell_type": "code",
   "execution_count": 9,
   "metadata": {},
   "outputs": [
    {
     "data": {
      "text/plain": [
       "<seaborn.axisgrid.FacetGrid at 0x149ff9964d0>"
      ]
     },
     "execution_count": 9,
     "metadata": {},
     "output_type": "execute_result"
    },
    {
     "data": {
      "image/png": "[encoded data removed]",
      "text/plain": [
       "<Figure size 819.5x360 with 2 Axes>"
      ]
     },
     "metadata": {},
     "output_type": "display_data"
    }
   ],
   "source": [
    "order = optimized_game_df['winner'].value_counts().index\n",
    "sns.displot(data=optimized_game_df, x='dealer_score', col='winner', hue='winner', col_order=order, hue_order=order)"
   ]
  },
  {
   "cell_type": "code",
   "execution_count": 10,
   "metadata": {},
   "outputs": [
    {
     "data": {
      "text/plain": [
       "<seaborn.axisgrid.FacetGrid at 0x149ffc0c310>"
      ]
     },
     "execution_count": 10,
     "metadata": {},
     "output_type": "execute_result"
    },
    {
     "data": {
      "image/png": "[encoded data removed]",
      "text/plain": [
       "<Figure size 819.5x360 with 2 Axes>"
      ]
     },
     "metadata": {},
     "output_type": "display_data"
    }
   ],
   "source": [
    "sns.displot(data=optimized_game_df, x='player_score', col='winner', hue='winner', col_order=order, hue_order=order)"
   ]
  }
 ],
 "metadata": {
  "interpreter": {
   "hash": "a534f18559d748a0c370a2844fb4b9579bd78d809241c6d44230c2ec3ee30792"
  },
  "kernelspec": {
   "display_name": "Python 3.10.2 ('.env': venv)",
   "language": "python",
   "name": "python3"
  },
  "language_info": {
   "codemirror_mode": {
    "name": "ipython",
    "version": 3
   },
   "file_extension": ".py",
   "mimetype": "text/x-python",
   "name": "python",
   "nbconvert_exporter": "python",
   "pygments_lexer": "ipython3",
   "version": "3.10.2"
  },
  "orig_nbformat": 4
 },
 "nbformat": 4,
 "nbformat_minor": 2
}
